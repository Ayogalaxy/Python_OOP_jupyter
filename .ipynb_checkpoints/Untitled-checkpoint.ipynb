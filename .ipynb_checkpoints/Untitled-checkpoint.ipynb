{
 "cells": [
  {
   "cell_type": "markdown",
   "id": "158bb3cb",
   "metadata": {},
   "source": [
    "## Import Data"
   ]
  },
  {
   "cell_type": "code",
   "execution_count": 19,
   "id": "f2b04492",
   "metadata": {},
   "outputs": [],
   "source": [
    "import pandas as pd\n",
    "sales = pd.read_excel('https://github.com/datagy/mediumdata/raw/master/pythonexcel.xlsx', sheet_name = 'sales')\n",
    "states = pd.read_excel('https://github.com/datagy/mediumdata/raw/master/pythonexcel.xlsx', sheet_name = 'states')"
   ]
  },
  {
   "cell_type": "markdown",
   "id": "17009617",
   "metadata": {},
   "source": [
    "## Printing the first five rows"
   ]
  },
  {
   "cell_type": "code",
   "execution_count": 23,
   "id": "5a183ff4",
   "metadata": {},
   "outputs": [
    {
     "name": "stdout",
     "output_type": "stream",
     "text": [
      "    Product  Sales       Date           City MoreThan500\n",
      "0   Bananas    121 2019-06-13        Atlanta          No\n",
      "1   Bananas    236 2019-10-20        Atlanta          No\n",
      "2    Apples    981 2019-03-12        Atlanta         Yes\n",
      "3     Bread    996 2019-07-28  New York City         Yes\n",
      "4  Brocolli    790 2019-10-22  New York City         Yes\n"
     ]
    }
   ],
   "source": [
    "print(sales.head())"
   ]
  },
  {
   "cell_type": "markdown",
   "id": "f0c381df",
   "metadata": {},
   "source": [
    "## If function in Pandas"
   ]
  },
  {
   "cell_type": "code",
   "execution_count": 21,
   "id": "d7bf5244",
   "metadata": {},
   "outputs": [],
   "source": [
    "sales['MoreThan500'] = ['Yes' if x > 500 else 'No' for x in sales['Sales']]"
   ]
  },
  {
   "cell_type": "markdown",
   "id": "0462fe52",
   "metadata": {},
   "source": [
    "## VLOOKUP"
   ]
  },
  {
   "cell_type": "code",
   "execution_count": 13,
   "id": "fbdf29ae",
   "metadata": {},
   "outputs": [
    {
     "data": {
      "text/html": [
       "<div>\n",
       "<style scoped>\n",
       "    .dataframe tbody tr th:only-of-type {\n",
       "        vertical-align: middle;\n",
       "    }\n",
       "\n",
       "    .dataframe tbody tr th {\n",
       "        vertical-align: top;\n",
       "    }\n",
       "\n",
       "    .dataframe thead th {\n",
       "        text-align: right;\n",
       "    }\n",
       "</style>\n",
       "<table border=\"1\" class=\"dataframe\">\n",
       "  <thead>\n",
       "    <tr style=\"text-align: right;\">\n",
       "      <th></th>\n",
       "      <th>Product</th>\n",
       "      <th>Sales</th>\n",
       "      <th>Date</th>\n",
       "      <th>City</th>\n",
       "      <th>MoreThan500</th>\n",
       "    </tr>\n",
       "  </thead>\n",
       "  <tbody>\n",
       "    <tr>\n",
       "      <th>0</th>\n",
       "      <td>Bananas</td>\n",
       "      <td>121</td>\n",
       "      <td>2019-06-13</td>\n",
       "      <td>Atlanta</td>\n",
       "      <td>No</td>\n",
       "    </tr>\n",
       "    <tr>\n",
       "      <th>1</th>\n",
       "      <td>Bananas</td>\n",
       "      <td>236</td>\n",
       "      <td>2019-10-20</td>\n",
       "      <td>Atlanta</td>\n",
       "      <td>No</td>\n",
       "    </tr>\n",
       "    <tr>\n",
       "      <th>2</th>\n",
       "      <td>Apples</td>\n",
       "      <td>981</td>\n",
       "      <td>2019-03-12</td>\n",
       "      <td>Atlanta</td>\n",
       "      <td>Yes</td>\n",
       "    </tr>\n",
       "    <tr>\n",
       "      <th>3</th>\n",
       "      <td>Bread</td>\n",
       "      <td>996</td>\n",
       "      <td>2019-07-28</td>\n",
       "      <td>New York City</td>\n",
       "      <td>Yes</td>\n",
       "    </tr>\n",
       "    <tr>\n",
       "      <th>4</th>\n",
       "      <td>Brocolli</td>\n",
       "      <td>790</td>\n",
       "      <td>2019-10-22</td>\n",
       "      <td>New York City</td>\n",
       "      <td>Yes</td>\n",
       "    </tr>\n",
       "  </tbody>\n",
       "</table>\n",
       "</div>"
      ],
      "text/plain": [
       "    Product  Sales       Date           City MoreThan500\n",
       "0   Bananas    121 2019-06-13        Atlanta          No\n",
       "1   Bananas    236 2019-10-20        Atlanta          No\n",
       "2    Apples    981 2019-03-12        Atlanta         Yes\n",
       "3     Bread    996 2019-07-28  New York City         Yes\n",
       "4  Brocolli    790 2019-10-22  New York City         Yes"
      ]
     },
     "execution_count": 13,
     "metadata": {},
     "output_type": "execute_result"
    }
   ],
   "source": [
    "sales.head()"
   ]
  },
  {
   "cell_type": "code",
   "execution_count": 15,
   "id": "6d58abe0",
   "metadata": {},
   "outputs": [],
   "source": [
    "sales = pd.merge(sales, states, how='left', on='City')"
   ]
  },
  {
   "cell_type": "code",
   "execution_count": 16,
   "id": "1a2a7d2d",
   "metadata": {},
   "outputs": [
    {
     "data": {
      "text/html": [
       "<div>\n",
       "<style scoped>\n",
       "    .dataframe tbody tr th:only-of-type {\n",
       "        vertical-align: middle;\n",
       "    }\n",
       "\n",
       "    .dataframe tbody tr th {\n",
       "        vertical-align: top;\n",
       "    }\n",
       "\n",
       "    .dataframe thead th {\n",
       "        text-align: right;\n",
       "    }\n",
       "</style>\n",
       "<table border=\"1\" class=\"dataframe\">\n",
       "  <thead>\n",
       "    <tr style=\"text-align: right;\">\n",
       "      <th></th>\n",
       "      <th>Product</th>\n",
       "      <th>Sales</th>\n",
       "      <th>Date</th>\n",
       "      <th>City</th>\n",
       "      <th>MoreThan500</th>\n",
       "      <th>State_x</th>\n",
       "      <th>State_y</th>\n",
       "    </tr>\n",
       "  </thead>\n",
       "  <tbody>\n",
       "    <tr>\n",
       "      <th>0</th>\n",
       "      <td>Bananas</td>\n",
       "      <td>121</td>\n",
       "      <td>2019-06-13</td>\n",
       "      <td>Atlanta</td>\n",
       "      <td>No</td>\n",
       "      <td>Georgia</td>\n",
       "      <td>Georgia</td>\n",
       "    </tr>\n",
       "    <tr>\n",
       "      <th>1</th>\n",
       "      <td>Bananas</td>\n",
       "      <td>236</td>\n",
       "      <td>2019-10-20</td>\n",
       "      <td>Atlanta</td>\n",
       "      <td>No</td>\n",
       "      <td>Georgia</td>\n",
       "      <td>Georgia</td>\n",
       "    </tr>\n",
       "    <tr>\n",
       "      <th>2</th>\n",
       "      <td>Apples</td>\n",
       "      <td>981</td>\n",
       "      <td>2019-03-12</td>\n",
       "      <td>Atlanta</td>\n",
       "      <td>Yes</td>\n",
       "      <td>Georgia</td>\n",
       "      <td>Georgia</td>\n",
       "    </tr>\n",
       "    <tr>\n",
       "      <th>3</th>\n",
       "      <td>Bread</td>\n",
       "      <td>996</td>\n",
       "      <td>2019-07-28</td>\n",
       "      <td>New York City</td>\n",
       "      <td>Yes</td>\n",
       "      <td>New York</td>\n",
       "      <td>New York</td>\n",
       "    </tr>\n",
       "    <tr>\n",
       "      <th>4</th>\n",
       "      <td>Brocolli</td>\n",
       "      <td>790</td>\n",
       "      <td>2019-10-22</td>\n",
       "      <td>New York City</td>\n",
       "      <td>Yes</td>\n",
       "      <td>New York</td>\n",
       "      <td>New York</td>\n",
       "    </tr>\n",
       "  </tbody>\n",
       "</table>\n",
       "</div>"
      ],
      "text/plain": [
       "    Product  Sales       Date           City MoreThan500   State_x   State_y\n",
       "0   Bananas    121 2019-06-13        Atlanta          No   Georgia   Georgia\n",
       "1   Bananas    236 2019-10-20        Atlanta          No   Georgia   Georgia\n",
       "2    Apples    981 2019-03-12        Atlanta         Yes   Georgia   Georgia\n",
       "3     Bread    996 2019-07-28  New York City         Yes  New York  New York\n",
       "4  Brocolli    790 2019-10-22  New York City         Yes  New York  New York"
      ]
     },
     "execution_count": 16,
     "metadata": {},
     "output_type": "execute_result"
    }
   ],
   "source": [
    "sales.head()"
   ]
  },
  {
   "cell_type": "markdown",
   "id": "31a574e1",
   "metadata": {},
   "source": [
    "## Pivot Tables"
   ]
  },
  {
   "cell_type": "code",
   "execution_count": 17,
   "id": "92ba7de4",
   "metadata": {},
   "outputs": [
    {
     "data": {
      "text/html": [
       "<div>\n",
       "<style scoped>\n",
       "    .dataframe tbody tr th:only-of-type {\n",
       "        vertical-align: middle;\n",
       "    }\n",
       "\n",
       "    .dataframe tbody tr th {\n",
       "        vertical-align: top;\n",
       "    }\n",
       "\n",
       "    .dataframe thead th {\n",
       "        text-align: right;\n",
       "    }\n",
       "</style>\n",
       "<table border=\"1\" class=\"dataframe\">\n",
       "  <thead>\n",
       "    <tr style=\"text-align: right;\">\n",
       "      <th></th>\n",
       "      <th>Sales</th>\n",
       "    </tr>\n",
       "    <tr>\n",
       "      <th>City</th>\n",
       "      <th></th>\n",
       "    </tr>\n",
       "  </thead>\n",
       "  <tbody>\n",
       "    <tr>\n",
       "      <th>Atlanta</th>\n",
       "      <td>7642</td>\n",
       "    </tr>\n",
       "    <tr>\n",
       "      <th>New York City</th>\n",
       "      <td>8249</td>\n",
       "    </tr>\n",
       "    <tr>\n",
       "      <th>Portland</th>\n",
       "      <td>4231</td>\n",
       "    </tr>\n",
       "    <tr>\n",
       "      <th>Toronto</th>\n",
       "      <td>9571</td>\n",
       "    </tr>\n",
       "  </tbody>\n",
       "</table>\n",
       "</div>"
      ],
      "text/plain": [
       "               Sales\n",
       "City                \n",
       "Atlanta         7642\n",
       "New York City   8249\n",
       "Portland        4231\n",
       "Toronto         9571"
      ]
     },
     "execution_count": 17,
     "metadata": {},
     "output_type": "execute_result"
    }
   ],
   "source": [
    "sales.pivot_table(index = 'City', values = 'Sales', aggfunc = 'sum')"
   ]
  },
  {
   "cell_type": "code",
   "execution_count": null,
   "id": "1ed505f4",
   "metadata": {},
   "outputs": [],
   "source": []
  }
 ],
 "metadata": {
  "kernelspec": {
   "display_name": "Python 3 (ipykernel)",
   "language": "python",
   "name": "python3"
  },
  "language_info": {
   "codemirror_mode": {
    "name": "ipython",
    "version": 3
   },
   "file_extension": ".py",
   "mimetype": "text/x-python",
   "name": "python",
   "nbconvert_exporter": "python",
   "pygments_lexer": "ipython3",
   "version": "3.9.12"
  }
 },
 "nbformat": 4,
 "nbformat_minor": 5
}
