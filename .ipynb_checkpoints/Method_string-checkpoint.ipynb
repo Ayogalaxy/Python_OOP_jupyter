{
 "cells": [
  {
   "cell_type": "code",
   "execution_count": 1,
   "id": "20b0b764",
   "metadata": {},
   "outputs": [],
   "source": [
    "our_list = ['I','am', 'learning', 'Python', 'with', 'datagy!']"
   ]
  },
  {
   "cell_type": "code",
   "execution_count": 8,
   "id": "4aa461b3",
   "metadata": {},
   "outputs": [],
   "source": [
    "def spaces(your_list):\n",
    "  return ' '.join(your_list)"
   ]
  },
  {
   "cell_type": "code",
   "execution_count": 3,
   "id": "21fee185",
   "metadata": {},
   "outputs": [
    {
     "name": "stdout",
     "output_type": "stream",
     "text": [
      "Our list delimited by spaces:\n",
      "I am learning Python with datagy!\n"
     ]
    }
   ],
   "source": [
    "space_string = spaces(our_list)\n",
    "print(\"Our list delimited by spaces:\")\n",
    "print(space_string)"
   ]
  },
  {
   "cell_type": "code",
   "execution_count": 4,
   "id": "7cf778dd",
   "metadata": {},
   "outputs": [],
   "source": [
    "def commas(your_list):\n",
    "  \"\"\"Delimit your list by commas.\"\"\"\n",
    "  return ','.join(your_list)"
   ]
  },
  {
   "cell_type": "code",
   "execution_count": 5,
   "id": "2b665b89",
   "metadata": {},
   "outputs": [
    {
     "name": "stdout",
     "output_type": "stream",
     "text": [
      "Our list delimited by commas:\n",
      "I,am,learning,Python,with,datagy!\n"
     ]
    }
   ],
   "source": [
    "comma_string = commas(our_list)\n",
    "print(\"Our list delimited by commas:\")\n",
    "print(comma_string)"
   ]
  },
  {
   "cell_type": "code",
   "execution_count": 6,
   "id": "458207e4",
   "metadata": {},
   "outputs": [],
   "source": [
    "def new_lines(your_list):\n",
    "  \"\"\"Delimit your list by new lines.\"\"\"\n",
    "  return '\\n'.join(your_list)"
   ]
  },
  {
   "cell_type": "code",
   "execution_count": 7,
   "id": "29af1558",
   "metadata": {},
   "outputs": [
    {
     "name": "stdout",
     "output_type": "stream",
     "text": [
      "Our list delimited by new lines:\n",
      "I\n",
      "am\n",
      "learning\n",
      "Python\n",
      "with\n",
      "datagy!\n"
     ]
    }
   ],
   "source": [
    "new_lines_string = new_lines(our_list)\n",
    "print(\"Our list delimited by new lines:\")\n",
    "print(new_lines_string)"
   ]
  },
  {
   "cell_type": "code",
   "execution_count": null,
   "id": "82be6459",
   "metadata": {},
   "outputs": [],
   "source": []
  }
 ],
 "metadata": {
  "kernelspec": {
   "display_name": "Python 3 (ipykernel)",
   "language": "python",
   "name": "python3"
  },
  "language_info": {
   "codemirror_mode": {
    "name": "ipython",
    "version": 3
   },
   "file_extension": ".py",
   "mimetype": "text/x-python",
   "name": "python",
   "nbconvert_exporter": "python",
   "pygments_lexer": "ipython3",
   "version": "3.9.12"
  }
 },
 "nbformat": 4,
 "nbformat_minor": 5
}
