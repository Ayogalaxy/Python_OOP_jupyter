{
 "cells": [
  {
   "cell_type": "code",
   "execution_count": 21,
   "id": "6315b604",
   "metadata": {},
   "outputs": [],
   "source": [
    "import pandas as pd\n",
    "import glob, os\n",
    "from openpyxl import load_workbook\n",
    "from openpyxl.chart import Reference, BarChart"
   ]
  },
  {
   "cell_type": "code",
   "execution_count": 22,
   "id": "3a19ae22",
   "metadata": {},
   "outputs": [],
   "source": [
    "files = os.listdir()"
   ]
  },
  {
   "cell_type": "code",
   "execution_count": 25,
   "id": "ab95214b",
   "metadata": {},
   "outputs": [],
   "source": [
    "combined = pd.DataFrame()"
   ]
  },
  {
   "cell_type": "code",
   "execution_count": 27,
   "id": "194053a0",
   "metadata": {},
   "outputs": [],
   "source": [
    "for file in files:\n",
    "    if file.endswith(\".xlsx\"):\n",
    "#        print(file)\n",
    "        df = pd.read_excel(file)\n",
    "        combined = pd.concat([combined, df], ignore_index=True)"
   ]
  },
  {
   "cell_type": "code",
   "execution_count": 28,
   "id": "8a4fbf61",
   "metadata": {},
   "outputs": [
    {
     "name": "stdout",
     "output_type": "stream",
     "text": [
      "         Date Salesperson  Amount\n",
      "0  2022-05-01       Kevin    2208\n",
      "1  2022-05-02        Mark    1918\n",
      "2  2022-05-03        Devi    1835\n",
      "3  2022-05-04      Ranjit    3259\n",
      "4  2022-05-05        Adam    1003\n",
      "..        ...         ...     ...\n",
      "87 2022-07-27        Devi    3749\n",
      "88 2022-07-28      Ranjit    1886\n",
      "89 2022-07-29        Adam    2968\n",
      "90 2022-07-30        Kate    2129\n",
      "91 2022-07-31        Kate    1543\n",
      "\n",
      "[92 rows x 3 columns]\n"
     ]
    }
   ],
   "source": [
    "print(combined)"
   ]
  }
 ],
 "metadata": {
  "kernelspec": {
   "display_name": "Python 3 (ipykernel)",
   "language": "python",
   "name": "python3"
  },
  "language_info": {
   "codemirror_mode": {
    "name": "ipython",
    "version": 3
   },
   "file_extension": ".py",
   "mimetype": "text/x-python",
   "name": "python",
   "nbconvert_exporter": "python",
   "pygments_lexer": "ipython3",
   "version": "3.9.12"
  }
 },
 "nbformat": 4,
 "nbformat_minor": 5
}
