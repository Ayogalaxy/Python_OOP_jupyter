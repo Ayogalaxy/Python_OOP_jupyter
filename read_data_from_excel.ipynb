{
 "cells": [
  {
   "cell_type": "markdown",
   "id": "8ca2eb62",
   "metadata": {},
   "source": [
    "## Import Data"
   ]
  },
  {
   "cell_type": "code",
   "execution_count": 33,
   "id": "53ed631e",
   "metadata": {},
   "outputs": [],
   "source": [
    "import pandas as pd\n",
    "sales = pd.read_excel('https://github.com/datagy/mediumdata/raw/master/pythonexcel.xlsx', sheet_name = 'sales')\n",
    "states = pd.read_excel('https://github.com/datagy/mediumdata/raw/master/pythonexcel.xlsx', sheet_name = 'states')"
   ]
  },
  {
   "cell_type": "markdown",
   "id": "c5436172",
   "metadata": {},
   "source": [
    "## Printing the first five rows"
   ]
  },
  {
   "cell_type": "code",
   "execution_count": 34,
   "id": "9e9fd18a",
   "metadata": {},
   "outputs": [
    {
     "name": "stdout",
     "output_type": "stream",
     "text": [
      "    Product  Sales       Date           City\n",
      "0   Bananas    121 2019-06-13        Atlanta\n",
      "1   Bananas    236 2019-10-20        Atlanta\n",
      "2    Apples    981 2019-03-12        Atlanta\n",
      "3     Bread    996 2019-07-28  New York City\n",
      "4  Brocolli    790 2019-10-22  New York City\n"
     ]
    }
   ],
   "source": [
    "print(sales.head())"
   ]
  },
  {
   "cell_type": "markdown",
   "id": "886f6611",
   "metadata": {},
   "source": [
    "## If function in Pandas"
   ]
  },
  {
   "cell_type": "code",
   "execution_count": 26,
   "id": "0dd2ded2",
   "metadata": {},
   "outputs": [],
   "source": [
    "sales['MoreThan500'] = ['Yes' if x > 500 else 'No' for x in sales['Sales']]"
   ]
  },
  {
   "cell_type": "markdown",
   "id": "bd34dcb4",
   "metadata": {},
   "source": [
    "## vlookup"
   ]
  },
  {
   "cell_type": "code",
   "execution_count": 27,
   "id": "7f27e8da",
   "metadata": {},
   "outputs": [
    {
     "data": {
      "text/html": [
       "<div>\n",
       "<style scoped>\n",
       "    .dataframe tbody tr th:only-of-type {\n",
       "        vertical-align: middle;\n",
       "    }\n",
       "\n",
       "    .dataframe tbody tr th {\n",
       "        vertical-align: top;\n",
       "    }\n",
       "\n",
       "    .dataframe thead th {\n",
       "        text-align: right;\n",
       "    }\n",
       "</style>\n",
       "<table border=\"1\" class=\"dataframe\">\n",
       "  <thead>\n",
       "    <tr style=\"text-align: right;\">\n",
       "      <th></th>\n",
       "      <th>Product</th>\n",
       "      <th>Sales</th>\n",
       "      <th>Date</th>\n",
       "      <th>City</th>\n",
       "      <th>MoreThan500</th>\n",
       "    </tr>\n",
       "  </thead>\n",
       "  <tbody>\n",
       "    <tr>\n",
       "      <th>0</th>\n",
       "      <td>Bananas</td>\n",
       "      <td>121</td>\n",
       "      <td>2019-06-13</td>\n",
       "      <td>Atlanta</td>\n",
       "      <td>No</td>\n",
       "    </tr>\n",
       "    <tr>\n",
       "      <th>1</th>\n",
       "      <td>Bananas</td>\n",
       "      <td>236</td>\n",
       "      <td>2019-10-20</td>\n",
       "      <td>Atlanta</td>\n",
       "      <td>No</td>\n",
       "    </tr>\n",
       "    <tr>\n",
       "      <th>2</th>\n",
       "      <td>Apples</td>\n",
       "      <td>981</td>\n",
       "      <td>2019-03-12</td>\n",
       "      <td>Atlanta</td>\n",
       "      <td>Yes</td>\n",
       "    </tr>\n",
       "    <tr>\n",
       "      <th>3</th>\n",
       "      <td>Bread</td>\n",
       "      <td>996</td>\n",
       "      <td>2019-07-28</td>\n",
       "      <td>New York City</td>\n",
       "      <td>Yes</td>\n",
       "    </tr>\n",
       "    <tr>\n",
       "      <th>4</th>\n",
       "      <td>Brocolli</td>\n",
       "      <td>790</td>\n",
       "      <td>2019-10-22</td>\n",
       "      <td>New York City</td>\n",
       "      <td>Yes</td>\n",
       "    </tr>\n",
       "  </tbody>\n",
       "</table>\n",
       "</div>"
      ],
      "text/plain": [
       "    Product  Sales       Date           City MoreThan500\n",
       "0   Bananas    121 2019-06-13        Atlanta          No\n",
       "1   Bananas    236 2019-10-20        Atlanta          No\n",
       "2    Apples    981 2019-03-12        Atlanta         Yes\n",
       "3     Bread    996 2019-07-28  New York City         Yes\n",
       "4  Brocolli    790 2019-10-22  New York City         Yes"
      ]
     },
     "execution_count": 27,
     "metadata": {},
     "output_type": "execute_result"
    }
   ],
   "source": [
    "sales.head()"
   ]
  },
  {
   "cell_type": "code",
   "execution_count": 35,
   "id": "25159c4f",
   "metadata": {},
   "outputs": [],
   "source": [
    "sales = pd.merge(sales, states, how='left', on='City')"
   ]
  },
  {
   "cell_type": "code",
   "execution_count": 37,
   "id": "d21a9b67",
   "metadata": {},
   "outputs": [
    {
     "data": {
      "text/html": [
       "<div>\n",
       "<style scoped>\n",
       "    .dataframe tbody tr th:only-of-type {\n",
       "        vertical-align: middle;\n",
       "    }\n",
       "\n",
       "    .dataframe tbody tr th {\n",
       "        vertical-align: top;\n",
       "    }\n",
       "\n",
       "    .dataframe thead th {\n",
       "        text-align: right;\n",
       "    }\n",
       "</style>\n",
       "<table border=\"1\" class=\"dataframe\">\n",
       "  <thead>\n",
       "    <tr style=\"text-align: right;\">\n",
       "      <th></th>\n",
       "      <th>Product</th>\n",
       "      <th>Sales</th>\n",
       "      <th>Date</th>\n",
       "      <th>City</th>\n",
       "      <th>State</th>\n",
       "    </tr>\n",
       "  </thead>\n",
       "  <tbody>\n",
       "    <tr>\n",
       "      <th>0</th>\n",
       "      <td>Bananas</td>\n",
       "      <td>121</td>\n",
       "      <td>2019-06-13</td>\n",
       "      <td>Atlanta</td>\n",
       "      <td>Georgia</td>\n",
       "    </tr>\n",
       "    <tr>\n",
       "      <th>1</th>\n",
       "      <td>Bananas</td>\n",
       "      <td>236</td>\n",
       "      <td>2019-10-20</td>\n",
       "      <td>Atlanta</td>\n",
       "      <td>Georgia</td>\n",
       "    </tr>\n",
       "    <tr>\n",
       "      <th>2</th>\n",
       "      <td>Apples</td>\n",
       "      <td>981</td>\n",
       "      <td>2019-03-12</td>\n",
       "      <td>Atlanta</td>\n",
       "      <td>Georgia</td>\n",
       "    </tr>\n",
       "    <tr>\n",
       "      <th>3</th>\n",
       "      <td>Bread</td>\n",
       "      <td>996</td>\n",
       "      <td>2019-07-28</td>\n",
       "      <td>New York City</td>\n",
       "      <td>New York</td>\n",
       "    </tr>\n",
       "    <tr>\n",
       "      <th>4</th>\n",
       "      <td>Brocolli</td>\n",
       "      <td>790</td>\n",
       "      <td>2019-10-22</td>\n",
       "      <td>New York City</td>\n",
       "      <td>New York</td>\n",
       "    </tr>\n",
       "  </tbody>\n",
       "</table>\n",
       "</div>"
      ],
      "text/plain": [
       "    Product  Sales       Date           City     State\n",
       "0   Bananas    121 2019-06-13        Atlanta   Georgia\n",
       "1   Bananas    236 2019-10-20        Atlanta   Georgia\n",
       "2    Apples    981 2019-03-12        Atlanta   Georgia\n",
       "3     Bread    996 2019-07-28  New York City  New York\n",
       "4  Brocolli    790 2019-10-22  New York City  New York"
      ]
     },
     "execution_count": 37,
     "metadata": {},
     "output_type": "execute_result"
    }
   ],
   "source": [
    "sales.head()"
   ]
  },
  {
   "cell_type": "markdown",
   "id": "bac9c787",
   "metadata": {},
   "source": [
    "## Pivot Tables"
   ]
  },
  {
   "cell_type": "code",
   "execution_count": 38,
   "id": "2aeaef8d",
   "metadata": {},
   "outputs": [
    {
     "data": {
      "text/html": [
       "<div>\n",
       "<style scoped>\n",
       "    .dataframe tbody tr th:only-of-type {\n",
       "        vertical-align: middle;\n",
       "    }\n",
       "\n",
       "    .dataframe tbody tr th {\n",
       "        vertical-align: top;\n",
       "    }\n",
       "\n",
       "    .dataframe thead th {\n",
       "        text-align: right;\n",
       "    }\n",
       "</style>\n",
       "<table border=\"1\" class=\"dataframe\">\n",
       "  <thead>\n",
       "    <tr style=\"text-align: right;\">\n",
       "      <th></th>\n",
       "      <th>Sales</th>\n",
       "    </tr>\n",
       "    <tr>\n",
       "      <th>City</th>\n",
       "      <th></th>\n",
       "    </tr>\n",
       "  </thead>\n",
       "  <tbody>\n",
       "    <tr>\n",
       "      <th>Atlanta</th>\n",
       "      <td>7642</td>\n",
       "    </tr>\n",
       "    <tr>\n",
       "      <th>New York City</th>\n",
       "      <td>8249</td>\n",
       "    </tr>\n",
       "    <tr>\n",
       "      <th>Portland</th>\n",
       "      <td>4231</td>\n",
       "    </tr>\n",
       "    <tr>\n",
       "      <th>Toronto</th>\n",
       "      <td>9571</td>\n",
       "    </tr>\n",
       "  </tbody>\n",
       "</table>\n",
       "</div>"
      ],
      "text/plain": [
       "               Sales\n",
       "City                \n",
       "Atlanta         7642\n",
       "New York City   8249\n",
       "Portland        4231\n",
       "Toronto         9571"
      ]
     },
     "execution_count": 38,
     "metadata": {},
     "output_type": "execute_result"
    }
   ],
   "source": [
    "sales.pivot_table(index = 'City', values = 'Sales', aggfunc = 'sum')"
   ]
  },
  {
   "cell_type": "code",
   "execution_count": null,
   "id": "7ae09413",
   "metadata": {},
   "outputs": [],
   "source": []
  }
 ],
 "metadata": {
  "kernelspec": {
   "display_name": "Python 3 (ipykernel)",
   "language": "python",
   "name": "python3"
  },
  "language_info": {
   "codemirror_mode": {
    "name": "ipython",
    "version": 3
   },
   "file_extension": ".py",
   "mimetype": "text/x-python",
   "name": "python",
   "nbconvert_exporter": "python",
   "pygments_lexer": "ipython3",
   "version": "3.9.12"
  }
 },
 "nbformat": 4,
 "nbformat_minor": 5
}
